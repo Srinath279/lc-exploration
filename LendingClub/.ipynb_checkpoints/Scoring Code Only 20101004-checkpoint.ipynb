{
 "cells": [
  {
   "cell_type": "markdown",
   "metadata": {},
   "source": [
    "#Lending Club Scoring Code"
   ]
  },
  {
   "cell_type": "markdown",
   "metadata": {},
   "source": [
    "Part 3 of 3: This code should take the model from part 2 and score a group of new accounts for investment. This code mainly focuses on appropriately cleaning the variables in order to score. Tests throughout will make sure their are not dramatic data differences between the build/validation sample compared to newly scored candidates."
   ]
  },
  {
   "cell_type": "markdown",
   "metadata": {},
   "source": [
    "###Import necessary Python Packages"
   ]
  },
  {
   "cell_type": "code",
   "execution_count": 21,
   "metadata": {
    "collapsed": true
   },
   "outputs": [],
   "source": [
    "import pandas as pd\n",
    "import time\n",
    "import datetime\n",
    "import numpy as np \n",
    "import statsmodels.formula.api as sm\n",
    "import json\n",
    "\n",
    "from bokeh.plotting import figure, output_file, show\n",
    "from bokeh.io import output_notebook"
   ]
  },
  {
   "cell_type": "markdown",
   "metadata": {},
   "source": [
    "###1) Create DF of potential investments from downloaded CSVs"
   ]
  },
  {
   "cell_type": "code",
   "execution_count": 22,
   "metadata": {
    "collapsed": false
   },
   "outputs": [
    {
     "data": {
      "text/html": [
       "<div style=\"max-height:1000px;max-width:1500px;overflow:auto;\">\n",
       "<table border=\"1\" class=\"dataframe\">\n",
       "  <thead>\n",
       "    <tr style=\"text-align: right;\">\n",
       "      <th></th>\n",
       "      <th>member_id</th>\n",
       "      <th>loan_amnt</th>\n",
       "      <th>funded_amnt</th>\n",
       "      <th>term</th>\n",
       "      <th>int_rate</th>\n",
       "      <th>exp_default_rate</th>\n",
       "      <th>service_fee_rate</th>\n",
       "      <th>installment</th>\n",
       "      <th>grade</th>\n",
       "      <th>sub_grade</th>\n",
       "      <th>...</th>\n",
       "      <th>num_il_tl</th>\n",
       "      <th>mo_sin_old_il_acct</th>\n",
       "      <th>num_actv_rev_tl</th>\n",
       "      <th>mo_sin_old_rev_tl_op</th>\n",
       "      <th>mo_sin_rcnt_rev_tl_op</th>\n",
       "      <th>total_rev_hi_lim</th>\n",
       "      <th>num_rev_tl_bal_gt_0</th>\n",
       "      <th>num_op_rev_tl</th>\n",
       "      <th>tot_coll_amt</th>\n",
       "      <th>effective_int_rate</th>\n",
       "    </tr>\n",
       "    <tr>\n",
       "      <th>id</th>\n",
       "      <th></th>\n",
       "      <th></th>\n",
       "      <th></th>\n",
       "      <th></th>\n",
       "      <th></th>\n",
       "      <th></th>\n",
       "      <th></th>\n",
       "      <th></th>\n",
       "      <th></th>\n",
       "      <th></th>\n",
       "      <th></th>\n",
       "      <th></th>\n",
       "      <th></th>\n",
       "      <th></th>\n",
       "      <th></th>\n",
       "      <th></th>\n",
       "      <th></th>\n",
       "      <th></th>\n",
       "      <th></th>\n",
       "      <th></th>\n",
       "      <th></th>\n",
       "    </tr>\n",
       "  </thead>\n",
       "  <tbody>\n",
       "    <tr>\n",
       "      <th>61390816</th>\n",
       "      <td>65509604</td>\n",
       "      <td>5000</td>\n",
       "      <td>4925</td>\n",
       "      <td>36</td>\n",
       "      <td>6.89</td>\n",
       "      <td>1.42</td>\n",
       "      <td>0.78</td>\n",
       "      <td>154.14</td>\n",
       "      <td>A</td>\n",
       "      <td>A3</td>\n",
       "      <td>...</td>\n",
       "      <td>4</td>\n",
       "      <td>161</td>\n",
       "      <td>8</td>\n",
       "      <td>82</td>\n",
       "      <td>12</td>\n",
       "      <td>26900</td>\n",
       "      <td>8</td>\n",
       "      <td>9</td>\n",
       "      <td>0</td>\n",
       "      <td>6.84</td>\n",
       "    </tr>\n",
       "    <tr>\n",
       "      <th>61522012</th>\n",
       "      <td>65640818</td>\n",
       "      <td>12000</td>\n",
       "      <td>11875</td>\n",
       "      <td>36</td>\n",
       "      <td>7.89</td>\n",
       "      <td>2.00</td>\n",
       "      <td>0.78</td>\n",
       "      <td>375.43</td>\n",
       "      <td>A</td>\n",
       "      <td>A5</td>\n",
       "      <td>...</td>\n",
       "      <td>2</td>\n",
       "      <td>146</td>\n",
       "      <td>5</td>\n",
       "      <td>194</td>\n",
       "      <td>4</td>\n",
       "      <td>30000</td>\n",
       "      <td>5</td>\n",
       "      <td>6</td>\n",
       "      <td>0</td>\n",
       "      <td>7.81</td>\n",
       "    </tr>\n",
       "    <tr>\n",
       "      <th>61531914</th>\n",
       "      <td>65650720</td>\n",
       "      <td>5000</td>\n",
       "      <td>4900</td>\n",
       "      <td>36</td>\n",
       "      <td>6.24</td>\n",
       "      <td>1.20</td>\n",
       "      <td>0.78</td>\n",
       "      <td>152.66</td>\n",
       "      <td>A</td>\n",
       "      <td>A2</td>\n",
       "      <td>...</td>\n",
       "      <td>2</td>\n",
       "      <td>124</td>\n",
       "      <td>9</td>\n",
       "      <td>267</td>\n",
       "      <td>6</td>\n",
       "      <td>25100</td>\n",
       "      <td>9</td>\n",
       "      <td>16</td>\n",
       "      <td>0</td>\n",
       "      <td>6.20</td>\n",
       "    </tr>\n",
       "    <tr>\n",
       "      <th>61438891</th>\n",
       "      <td>65557619</td>\n",
       "      <td>18000</td>\n",
       "      <td>17650</td>\n",
       "      <td>36</td>\n",
       "      <td>7.89</td>\n",
       "      <td>2.00</td>\n",
       "      <td>0.78</td>\n",
       "      <td>563.15</td>\n",
       "      <td>A</td>\n",
       "      <td>A5</td>\n",
       "      <td>...</td>\n",
       "      <td>7</td>\n",
       "      <td>142</td>\n",
       "      <td>5</td>\n",
       "      <td>217</td>\n",
       "      <td>9</td>\n",
       "      <td>150500</td>\n",
       "      <td>5</td>\n",
       "      <td>8</td>\n",
       "      <td>0</td>\n",
       "      <td>7.81</td>\n",
       "    </tr>\n",
       "    <tr>\n",
       "      <th>61481328</th>\n",
       "      <td>65600118</td>\n",
       "      <td>20000</td>\n",
       "      <td>19575</td>\n",
       "      <td>36</td>\n",
       "      <td>5.32</td>\n",
       "      <td>1.00</td>\n",
       "      <td>0.78</td>\n",
       "      <td>602.30</td>\n",
       "      <td>A</td>\n",
       "      <td>A1</td>\n",
       "      <td>...</td>\n",
       "      <td>2</td>\n",
       "      <td>131</td>\n",
       "      <td>6</td>\n",
       "      <td>314</td>\n",
       "      <td>27</td>\n",
       "      <td>40600</td>\n",
       "      <td>6</td>\n",
       "      <td>8</td>\n",
       "      <td>0</td>\n",
       "      <td>5.29</td>\n",
       "    </tr>\n",
       "  </tbody>\n",
       "</table>\n",
       "<p>5 rows × 87 columns</p>\n",
       "</div>"
      ],
      "text/plain": [
       "          member_id  loan_amnt  funded_amnt  term  int_rate  exp_default_rate  \\\n",
       "id                                                                              \n",
       "61390816   65509604       5000         4925    36      6.89              1.42   \n",
       "61522012   65640818      12000        11875    36      7.89              2.00   \n",
       "61531914   65650720       5000         4900    36      6.24              1.20   \n",
       "61438891   65557619      18000        17650    36      7.89              2.00   \n",
       "61481328   65600118      20000        19575    36      5.32              1.00   \n",
       "\n",
       "          service_fee_rate  installment grade sub_grade        ...          \\\n",
       "id                                                             ...           \n",
       "61390816              0.78       154.14     A        A3        ...           \n",
       "61522012              0.78       375.43     A        A5        ...           \n",
       "61531914              0.78       152.66     A        A2        ...           \n",
       "61438891              0.78       563.15     A        A5        ...           \n",
       "61481328              0.78       602.30     A        A1        ...           \n",
       "\n",
       "         num_il_tl mo_sin_old_il_acct num_actv_rev_tl  mo_sin_old_rev_tl_op  \\\n",
       "id                                                                            \n",
       "61390816         4                161               8                    82   \n",
       "61522012         2                146               5                   194   \n",
       "61531914         2                124               9                   267   \n",
       "61438891         7                142               5                   217   \n",
       "61481328         2                131               6                   314   \n",
       "\n",
       "         mo_sin_rcnt_rev_tl_op total_rev_hi_lim num_rev_tl_bal_gt_0  \\\n",
       "id                                                                    \n",
       "61390816                    12            26900                   8   \n",
       "61522012                     4            30000                   5   \n",
       "61531914                     6            25100                   9   \n",
       "61438891                     9           150500                   5   \n",
       "61481328                    27            40600                   6   \n",
       "\n",
       "         num_op_rev_tl tot_coll_amt effective_int_rate  \n",
       "id                                                      \n",
       "61390816             9            0               6.84  \n",
       "61522012             6            0               7.81  \n",
       "61531914            16            0               6.20  \n",
       "61438891             8            0               7.81  \n",
       "61481328             8            0               5.29  \n",
       "\n",
       "[5 rows x 87 columns]"
      ]
     },
     "execution_count": 22,
     "metadata": {},
     "output_type": "execute_result"
    }
   ],
   "source": [
    "prospects = pd.io.parsers.read_csv('/Users/tphoran/Downloads/primaryMarketNotes_browseNotes_1-RETAIL.csv', sep=',', index_col=False)\n",
    "prospects = prospects.set_index(['id'])\n",
    "prospects.head()"
   ]
  },
  {
   "cell_type": "markdown",
   "metadata": {},
   "source": [
    "###2) Download dictionaries to transform data"
   ]
  },
  {
   "cell_type": "code",
   "execution_count": 25,
   "metadata": {
    "collapsed": false
   },
   "outputs": [],
   "source": [
    "writeLocation = '/Users/tphoran/Downloads/'\n",
    "\n",
    "with open(writeLocation+'d_treatment_charVars.json', 'r') as fp:\n",
    "    d_treatment_charVars = json.load(fp)\n",
    "    \n",
    "with open(writeLocation+'d_treatment.json', 'r') as fp:\n",
    "    d_treatment = json.load(fp)\n",
    "\n",
    "with open(writeLocation+'d_means_by_LC_grades.json', 'r') as fp:\n",
    "    d_means_by_LC_grades = json.load(fp)\n",
    "    \n",
    "with open(writeLocation+'dTypeDict.json', 'r') as fp:\n",
    "    dTypeDict = json.load(fp)"
   ]
  },
  {
   "cell_type": "markdown",
   "metadata": {},
   "source": [
    "###3) Add date fields"
   ]
  },
  {
   "cell_type": "code",
   "execution_count": 27,
   "metadata": {
    "collapsed": false
   },
   "outputs": [],
   "source": [
    "# Info on to_datetimes http://pandas.pydata.org/pandas-docs/stable/generated/pandas.to_datetime.html\n",
    "# Converting to a Date in Words - Year in Numbers format (Jan-2015)\n",
    "def timeBetweenDatesM(timeZero, timeCompare):\n",
    "    timeZeroF = pd.to_datetime(timeZero,format=\"%b-%Y\")\n",
    "    timeCompareF = pd.to_datetime(timeCompare,format=\"%b-%Y\")\n",
    "    return (timeCompareF - timeZeroF).astype('timedelta64[M]')\n",
    "\n",
    "# Add column for today: https://docs.python.org/2/library/datetime.html#strftime-strptime-behavior\n",
    "prospects['today'] = datetime.date.today().strftime(\"%b-%Y\")\n",
    "\n",
    "#Fix earliest_cr_line varialbe\n",
    "prospects['earliest_cr_line'] = pd.to_datetime(prospects['earliest_cr_line'])\n",
    "prospects['earliest_cr_line'] = prospects['earliest_cr_line'].apply(lambda x: x.strftime(\"%b-%Y\"))\n",
    "\n",
    "# Apply definition\n",
    "prospects['earliest_cr_line_R'] = timeBetweenDatesM(prospects['today'], prospects['earliest_cr_line'])\n",
    "\n",
    "#Add a 0 loan_age field\n",
    "prospects['loan_age'] = 0"
   ]
  },
  {
   "cell_type": "markdown",
   "metadata": {},
   "source": [
    "###4) Fix data type for revol_util and int_rate (object to float)"
   ]
  },
  {
   "cell_type": "code",
   "execution_count": 28,
   "metadata": {
    "collapsed": true
   },
   "outputs": [],
   "source": [
    "prospects['revol_util'] = prospects.revol_util.astype('float')/100\n",
    "prospects['int_rate'] = prospects.int_rate.astype('float')/100"
   ]
  },
  {
   "cell_type": "markdown",
   "metadata": {},
   "source": [
    "###5) Fix verification_status field"
   ]
  },
  {
   "cell_type": "code",
   "execution_count": 30,
   "metadata": {
    "collapsed": false
   },
   "outputs": [
    {
     "name": "stdout",
     "output_type": "stream",
     "text": [
      "Not Verified       579\n",
      "Source Verified    141\n",
      "Verified            21\n",
      "dtype: int64\n",
      "\n",
      "not verified                579\n",
      "VERIFIED - income source    141\n",
      "VERIFIED - income            21\n",
      "dtype: int64\n"
     ]
    }
   ],
   "source": [
    "print prospects['is_inc_v'].value_counts()\n",
    "\n",
    "def verificationStatusClean(is_inc_v):\n",
    "    if is_inc_v == 'Not Verified':\n",
    "        return 'not verified'\n",
    "    elif is_inc_v == 'Source Verified':\n",
    "        return 'VERIFIED - income source'\n",
    "    elif is_inc_v == 'Verified':\n",
    "        return 'VERIFIED - income'\n",
    "\n",
    "prospects['verification_status'] = prospects.apply(lambda row: verificationStatusClean(row['is_inc_v']), axis=1)\n",
    "\n",
    "print\n",
    "print prospects['verification_status'].value_counts()"
   ]
  },
  {
   "cell_type": "markdown",
   "metadata": {},
   "source": [
    "###6) Fix fields that should be numeric"
   ]
  },
  {
   "cell_type": "code",
   "execution_count": 33,
   "metadata": {
    "collapsed": false
   },
   "outputs": [
    {
     "name": "stdout",
     "output_type": "stream",
     "text": [
      "count     741\n",
      "unique     80\n",
      "top          \n",
      "freq      378\n",
      "Name: mths_since_last_delinq, dtype: object\n",
      "\n",
      "count     741\n",
      "unique     75\n",
      "top          \n",
      "freq      574\n",
      "Name: mths_since_last_record, dtype: object\n",
      "\n",
      "count      741\n",
      "unique      88\n",
      "top       null\n",
      "freq       528\n",
      "Name: mths_since_last_major_derog, dtype: object\n",
      "\n",
      "count    363.000000\n",
      "mean      34.250689\n",
      "std       22.281734\n",
      "min        1.000000\n",
      "25%       16.000000\n",
      "50%       30.000000\n",
      "75%       52.000000\n",
      "max       83.000000\n",
      "Name: mths_since_last_delinq, dtype: float64\n",
      "\n",
      "count    167.000000\n",
      "mean      65.011976\n",
      "std       21.735538\n",
      "min        4.000000\n",
      "25%       54.000000\n",
      "50%       65.000000\n",
      "75%       79.500000\n",
      "max      112.000000\n",
      "Name: mths_since_last_record, dtype: float64\n",
      "\n",
      "count    213.000000\n",
      "mean      48.910798\n",
      "std       26.567936\n",
      "min        1.000000\n",
      "25%       30.000000\n",
      "50%       51.000000\n",
      "75%       66.000000\n",
      "max      146.000000\n",
      "Name: mths_since_last_major_derog, dtype: float64\n"
     ]
    }
   ],
   "source": [
    "print prospects['mths_since_last_delinq'].describe(include = 'all')\n",
    "print \n",
    "print prospects['mths_since_last_record'].describe(include = 'all')\n",
    "print \n",
    "print prospects['mths_since_last_major_derog'].describe(include = 'all')\n",
    "\n",
    "prospects['mths_since_last_delinq'] = prospects['mths_since_last_delinq'].apply(lambda x: None if x == ' ' else x)\n",
    "prospects['mths_since_last_delinq'] = prospects.mths_since_last_delinq.astype('float')\n",
    "\n",
    "prospects['mths_since_last_record'] = prospects['mths_since_last_record'].apply(lambda x: None if x == ' ' else x)\n",
    "prospects['mths_since_last_record'] = prospects.mths_since_last_record.astype('float')\n",
    "\n",
    "prospects['mths_since_last_major_derog'] = prospects['mths_since_last_major_derog'].apply(lambda x: None if x == 'null' else x)\n",
    "prospects['mths_since_last_major_derog'] = prospects.mths_since_last_major_derog.astype('float')\n",
    "\n",
    "print\n",
    "print prospects['mths_since_last_delinq'].describe(include = 'all')\n",
    "print \n",
    "print prospects['mths_since_last_record'].describe(include = 'all')\n",
    "print \n",
    "print prospects['mths_since_last_major_derog'].describe(include = 'all')"
   ]
  },
  {
   "cell_type": "markdown",
   "metadata": {},
   "source": [
    "###7) Convert term variable back to string"
   ]
  },
  {
   "cell_type": "code",
   "execution_count": 36,
   "metadata": {
    "collapsed": false
   },
   "outputs": [
    {
     "name": "stdout",
     "output_type": "stream",
     "text": [
      "36    483\n",
      "60    258\n",
      "dtype: int64\n",
      "\n",
      "36 months    483\n",
      "60 months    258\n",
      "dtype: int64\n"
     ]
    }
   ],
   "source": [
    "print prospects['term'].value_counts()\n",
    "\n",
    "def termClean(term):\n",
    "    if term == 36:\n",
    "        return '36 months'\n",
    "    elif term == 60:\n",
    "        return '60 months'\n",
    "\n",
    "prospects['term'] = prospects.apply(lambda row: termClean(row['term']), axis=1)\n",
    "\n",
    "print\n",
    "print prospects['term'].value_counts()"
   ]
  },
  {
   "cell_type": "markdown",
   "metadata": {},
   "source": [
    "###8) Fix purpose field based on wording changes in scoring dataset"
   ]
  },
  {
   "cell_type": "code",
   "execution_count": 37,
   "metadata": {
    "collapsed": false
   },
   "outputs": [
    {
     "name": "stdout",
     "output_type": "stream",
     "text": [
      "Debt consolidation         395\n",
      "Credit card refinancing    255\n",
      "Home improvement            50\n",
      "Other                       19\n",
      "Major purchase              12\n",
      "Car financing                4\n",
      "Business                     2\n",
      "Medical expenses             2\n",
      "Green loan                   1\n",
      "Vacation                     1\n",
      "dtype: int64\n",
      "\n",
      "debt_consolidation    395\n",
      "credit_card           255\n",
      "home_improvement       50\n",
      "other                  19\n",
      "major_purchase         12\n",
      "car                     4\n",
      "small_business          2\n",
      "medical                 2\n",
      "vacation                1\n",
      "dtype: int64\n"
     ]
    }
   ],
   "source": [
    "print prospects['purpose'].value_counts()\n",
    "\n",
    "def purposeClean(purpose):\n",
    "    if purpose == 'Debt consolidation':\n",
    "        return 'debt_consolidation'\n",
    "    elif purpose == 'Credit card refinancing':\n",
    "        return 'credit_card'\n",
    "    elif purpose == 'Home improvement':\n",
    "        return 'home_improvement'\n",
    "    elif purpose == 'Other':\n",
    "        return 'other'\n",
    "    elif purpose == 'Major purchase':\n",
    "        return 'major_purchase'\n",
    "    elif purpose == 'Business':\n",
    "        return 'small_business' \n",
    "    elif purpose == 'Medical expenses':\n",
    "        return 'medical'\n",
    "    elif purpose == 'Vacation':\n",
    "        return 'vacation'\n",
    "    elif purpose == 'Car financing':\n",
    "        return 'car'\n",
    "    elif purpose == 'Moving and relocation':\n",
    "        return 'moving'    \n",
    "\n",
    "prospects['purpose'] = prospects.apply(lambda row: purposeClean(row['purpose']), axis=1)\n",
    "\n",
    "print\n",
    "print prospects['purpose'].value_counts()"
   ]
  },
  {
   "cell_type": "markdown",
   "metadata": {},
   "source": [
    "###9) Drop Unnecessary Fields"
   ]
  },
  {
   "cell_type": "code",
   "execution_count": 52,
   "metadata": {
    "collapsed": false
   },
   "outputs": [],
   "source": [
    "keys = dTypeDict.keys()\n",
    "baseVariables = []\n",
    "\n",
    "for i in keys:\n",
    "    if '_imputed' not in i and '_cap' not in i and '_floor' not in i:\n",
    "        baseVariables.append(i)\n",
    "\n",
    "prospects = prospects.select(lambda f: f in baseVariables,axis=1)"
   ]
  },
  {
   "cell_type": "markdown",
   "metadata": {},
   "source": [
    "###10) Clean data as done in build"
   ]
  },
  {
   "cell_type": "code",
   "execution_count": null,
   "metadata": {
    "collapsed": true
   },
   "outputs": [],
   "source": []
  },
  {
   "cell_type": "markdown",
   "metadata": {},
   "source": [
    "###X) Data cleaning code should pass the below reviews"
   ]
  },
  {
   "cell_type": "code",
   "execution_count": 48,
   "metadata": {
    "collapsed": true
   },
   "outputs": [],
   "source": [
    "#Assign final data frame\n",
    "finalProspects = prospects"
   ]
  },
  {
   "cell_type": "markdown",
   "metadata": {},
   "source": [
    "####Verify that final table has all needed columns"
   ]
  },
  {
   "cell_type": "code",
   "execution_count": 49,
   "metadata": {
    "collapsed": false
   },
   "outputs": [
    {
     "name": "stdout",
     "output_type": "stream",
     "text": [
      "---- Base Missing Variables  ----\n",
      "\n",
      "---- Cap/Floor/Impute Missing Variables ----\n",
      "fico_range_high_imputed\n",
      "collections_12_mths_ex_med_cap\n",
      "revol_bal_floor\n",
      "dti_cap\n",
      "mths_since_last_delinq_cap\n",
      "revol_util_cap\n",
      "dti_floor\n",
      "mths_since_last_record_cap\n",
      "annual_inc_floor\n",
      "grade_imputed\n",
      "revol_util_floor\n",
      "sub_grade_imputed\n",
      "earliest_cr_line_R_floor\n",
      "emp_length_imputed\n",
      "pub_rec_floor\n",
      "earliest_cr_line_R_cap\n",
      "purpose_imputed\n",
      "open_acc_floor\n",
      "revol_util_imputed\n",
      "pub_rec_imputed\n",
      "total_acc_floor\n",
      "annual_inc_imputed\n",
      "inq_last_6mths_imputed\n",
      "fico_range_low_imputed\n",
      "total_acc_imputed\n",
      "total_acc_cap\n",
      "inq_last_6mths_cap\n",
      "mths_since_last_major_derog_cap\n",
      "delinq_2yrs_imputed\n",
      "zip_code_imputed\n",
      "addr_state_imputed\n",
      "mths_since_last_delinq_imputed\n",
      "fico_range_high_cap\n",
      "mths_since_last_major_derog_floor\n",
      "fico_range_low_floor\n",
      "collections_12_mths_ex_med_imputed\n",
      "delinq_2yrs_floor\n",
      "revol_bal_imputed\n",
      "open_acc_imputed\n",
      "mths_since_last_major_derog_imputed\n",
      "verification_status_imputed\n",
      "inq_last_6mths_floor\n",
      "collections_12_mths_ex_med_floor\n",
      "annual_inc_cap\n",
      "dti_imputed\n",
      "fico_range_high_floor\n",
      "revol_bal_cap\n",
      "delinq_2yrs_cap\n",
      "term_imputed\n",
      "earliest_cr_line_R_imputed\n",
      "fico_range_low_cap\n",
      "home_ownership_imputed\n",
      "mths_since_last_record_floor\n",
      "open_acc_cap\n",
      "pub_rec_cap\n",
      "mths_since_last_delinq_floor\n",
      "mths_since_last_record_imputed\n",
      "\n",
      "\n",
      "Missing Variable Counts\n",
      "Base Missing Variables: 0\n",
      "Cap/Floor/Impute Missing Variables: 57\n"
     ]
    }
   ],
   "source": [
    "current = finalProspects.columns\n",
    "baseMissing = []\n",
    "baseAvailable = []\n",
    "capfloorimputeMissing = []\n",
    "capfloorimputeAvailable = []\n",
    "\n",
    "print '---- Base Missing Variables  ----'\n",
    "for i in dTypeDict:\n",
    "    if i not in current and '_imputed' not in i and '_cap' not in i and '_floor' not in i:\n",
    "        print i\n",
    "        baseMissing.append(i)\n",
    "    elif i in current and '_imputed' not in i and '_cap' not in i and '_floor' not in i:\n",
    "        baseAvailable.append(i)\n",
    "\n",
    "print \n",
    "print '---- Cap/Floor/Impute Missing Variables ----'\n",
    "for i in dTypeDict:\n",
    "    if i not in current and ('_imputed' in i or '_cap' in i or '_floor' in i):\n",
    "        print i\n",
    "        capfloorimputeMissing.append(i)\n",
    "    elif i in current and ('_imputed' in i or '_cap' in i or '_floor' in i):\n",
    "        capfloorimputeAvailable.append(i)\n",
    "print\n",
    "print\n",
    "\n",
    "if len(baseMissing) == 0 and len(capfloorimputeMissing) == 0:\n",
    "    print 'No Missing Variables!'\n",
    "else:\n",
    "    print 'Missing Variable Counts'\n",
    "    print 'Base Missing Variables: '+ str(len(baseMissing))\n",
    "    print 'Cap/Floor/Impute Missing Variables: '+ str(len(capfloorimputeMissing))"
   ]
  },
  {
   "cell_type": "markdown",
   "metadata": {},
   "source": [
    "####Verify that final table datatypes are correct for available fields"
   ]
  },
  {
   "cell_type": "code",
   "execution_count": 50,
   "metadata": {
    "collapsed": false
   },
   "outputs": [
    {
     "name": "stdout",
     "output_type": "stream",
     "text": [
      "---- Base Variables Non Numberic (assuming variable is available) ----\n",
      "emp_length\n",
      "term\n",
      "home_ownership\n",
      "zip_code\n",
      "verification_status\n",
      "sub_grade\n",
      "addr_state\n",
      "purpose\n",
      "\n",
      "---- Cap/Floor/Impute Variables Non Numberic (assuming variable is available) ----\n",
      "\n",
      "Wrong dType Counts\n",
      "Base Missing Variables: 8\n",
      "Cap/Floor/Impute Missing Variables: 0\n"
     ]
    }
   ],
   "source": [
    "baseWrongDtype = []\n",
    "baseRightDtype = []\n",
    "capfloorimputeWrongDtype = []\n",
    "capfloorimputeRightDtype = []\n",
    "\n",
    "print '---- Base Variables Non Numberic (assuming variable is available) ----'\n",
    "for i in baseAvailable:\n",
    "    if 'int' not in str(finalProspects[i].dtype) and 'float' not in str(finalProspects[i].dtype):\n",
    "        print i\n",
    "        baseWrongDtype.append(i)\n",
    "    elif 'int' in str(finalProspects[i].dtype) and 'float' in str(finalProspects[i].dtype):\n",
    "        baseRightDtype.append(i)\n",
    "print\n",
    "print '---- Cap/Floor/Impute Variables Non Numberic (assuming variable is available) ----'\n",
    "for i in capfloorimputeAvailable:\n",
    "    if 'int' not in str(finalProspects[i].dtype) and 'float' not in str(finalProspects[i].dtype):\n",
    "        print i\n",
    "        capfloorimputeWrongDtype.append(i)\n",
    "    elif 'int' in str(finalProspects[i].dtype) and 'float' in str(finalProspects[i].dtype):\n",
    "        capfloorimputeRightDtype.append(i)\n",
    "print     \n",
    "if len(baseWrongDtype) == 0 and len(capfloorimputeWrongDtype) == 0:\n",
    "    print 'No wrong dtypes for available fields!'\n",
    "else:\n",
    "    print 'Wrong dType Counts'\n",
    "    print 'Base Missing Variables: '+ str(len(baseWrongDtype))\n",
    "    print 'Cap/Floor/Impute Missing Variables: '+ str(len(capfloorimputeWrongDtype))"
   ]
  },
  {
   "cell_type": "markdown",
   "metadata": {},
   "source": [
    "####Verify that final fields with that are available and have proper dType have reasonable mean values"
   ]
  },
  {
   "cell_type": "code",
   "execution_count": 62,
   "metadata": {
    "collapsed": false
   },
   "outputs": [],
   "source": [
    "###To be written"
   ]
  },
  {
   "cell_type": "code",
   "execution_count": null,
   "metadata": {
    "collapsed": true
   },
   "outputs": [],
   "source": []
  },
  {
   "cell_type": "code",
   "execution_count": null,
   "metadata": {
    "collapsed": true
   },
   "outputs": [],
   "source": []
  },
  {
   "cell_type": "code",
   "execution_count": null,
   "metadata": {
    "collapsed": true
   },
   "outputs": [],
   "source": []
  },
  {
   "cell_type": "code",
   "execution_count": null,
   "metadata": {
    "collapsed": true
   },
   "outputs": [],
   "source": []
  },
  {
   "cell_type": "code",
   "execution_count": null,
   "metadata": {
    "collapsed": true
   },
   "outputs": [],
   "source": []
  },
  {
   "cell_type": "code",
   "execution_count": null,
   "metadata": {
    "collapsed": true
   },
   "outputs": [],
   "source": [
    "current = df.columns\n",
    "\n",
    "for i in current:\n",
    "    if i not in expected:\n",
    "        testDict['1) Create DF - Columns'] = 'Fail'\n",
    "else:\n",
    "    testDict['1) Create DF - Columns'] = 'Pass'"
   ]
  },
  {
   "cell_type": "code",
   "execution_count": null,
   "metadata": {
    "collapsed": true
   },
   "outputs": [],
   "source": [
    "\n",
    "for i in expectedDtype:\n",
    "    if str(df[i].dtype) != expectedDtype[i]:\n",
    "        testDict['1) Create DF - dType'] = 'Fail'\n",
    "else:\n",
    "    testDict['1) Create DF - dType'] = 'Pass' "
   ]
  },
  {
   "cell_type": "code",
   "execution_count": 5,
   "metadata": {
    "collapsed": false
   },
   "outputs": [
    {
     "name": "stdout",
     "output_type": "stream",
     "text": [
      "{u'fico_range_high_imputed': u'int64', u'inq_last_6mths': u'float64', u'collections_12_mths_ex_med_cap': u'int64', u'revol_bal_floor': u'int64', u'emp_length': u'float64', u'dti_cap': u'int64', u'mths_since_last_delinq_cap': u'int64', u'revol_util_cap': u'int64', u'dti_floor': u'int64', u'pub_rec': u'float64', u'mths_since_last_record_cap': u'int64', u'earliest_cr_line_R': u'float64', u'annual_inc_floor': u'int64', u'grade_imputed': u'int64', u'revol_util_floor': u'int64', u'sub_grade_imputed': u'int64', u'earliest_cr_line_R_floor': u'int64', u'emp_length_imputed': u'int64', u'mths_since_last_major_derog': u'float64', u'term': u'float64', u'installment': u'float64', u'pub_rec_floor': u'int64', u'earliest_cr_line_R_cap': u'int64', u'home_ownership': u'float64', u'delinq_2yrs': u'float64', u'issue_d_imputed': u'int64', u'purpose_imputed': u'int64', u'open_acc_floor': u'int64', u'mths_since_last_delinq': u'float64', u'revol_util_imputed': u'int64', u'pub_rec_imputed': u'int64', u'total_acc_floor': u'int64', u'annual_inc_imputed': u'int64', u'revol_util': u'float64', u'inq_last_6mths_imputed': u'int64', u'fico_range_low_imputed': u'int64', u'zip_code': u'float64', u'verification_status': u'float64', u'total_acc_imputed': u'int64', u'total_acc_cap': u'int64', u'inq_last_6mths_cap': u'int64', u'mths_since_last_major_derog_cap': u'int64', u'delinq_2yrs_imputed': u'int64', u'zip_code_imputed': u'int64', u'member_id': u'float64', u'CO18M': u'int64', u'loan_amnt': u'float64', u'addr_state_imputed': u'int64', u'collections_12_mths_ex_med': u'float64', u'mths_since_last_delinq_imputed': u'int64', u'annual_inc': u'float64', u'fico_range_high_cap': u'int64', u'funded_amnt_inv': u'float64', u'mths_since_last_major_derog_floor': u'int64', u'fico_range_low_floor': u'int64', u'collections_12_mths_ex_med_imputed': u'int64', u'delinq_2yrs_floor': u'int64', u'revol_bal_imputed': u'int64', u'open_acc_imputed': u'int64', u'sub_grade': u'float64', u'mths_since_last_record': u'float64', u'dti': u'float64', u'revol_bal': u'float64', u'mths_since_last_major_derog_imputed': u'int64', u'verification_status_imputed': u'int64', u'int_rate': u'float64', u'inq_last_6mths_floor': u'int64', u'collections_12_mths_ex_med_floor': u'int64', u'annual_inc_cap': u'int64', u'addr_state': u'float64', u'loan_age': u'float64', u'dti_imputed': u'int64', u'fico_range_high_floor': u'int64', u'fico_range_low': u'float64', u'total_acc': u'float64', u'fico_range_high': u'float64', u'revol_bal_cap': u'int64', u'delinq_2yrs_cap': u'int64', u'term_imputed': u'int64', u'earliest_cr_line_R_imputed': u'int64', u'fico_range_low_cap': u'int64', u'home_ownership_imputed': u'int64', u'mths_since_last_record_floor': u'int64', u'open_acc_cap': u'int64', u'open_acc': u'float64', u'pub_rec_cap': u'int64', u'purpose': u'float64', u'mths_since_last_delinq_floor': u'int64', u'mths_since_last_record_imputed': u'int64', u'funded_amnt': u'float64', u'issue_d': u'float64'}\n"
     ]
    }
   ],
   "source": [
    "print dTypeDict"
   ]
  },
  {
   "cell_type": "code",
   "execution_count": null,
   "metadata": {
    "collapsed": true
   },
   "outputs": [],
   "source": []
  },
  {
   "cell_type": "code",
   "execution_count": null,
   "metadata": {
    "collapsed": true
   },
   "outputs": [],
   "source": []
  },
  {
   "cell_type": "code",
   "execution_count": null,
   "metadata": {
    "collapsed": true
   },
   "outputs": [],
   "source": []
  },
  {
   "cell_type": "code",
   "execution_count": null,
   "metadata": {
    "collapsed": true
   },
   "outputs": [],
   "source": []
  },
  {
   "cell_type": "code",
   "execution_count": null,
   "metadata": {
    "collapsed": true
   },
   "outputs": [],
   "source": []
  },
  {
   "cell_type": "markdown",
   "metadata": {},
   "source": [
    "###Create Dictionary to track passes/failures"
   ]
  },
  {
   "cell_type": "code",
   "execution_count": 3,
   "metadata": {
    "collapsed": true
   },
   "outputs": [],
   "source": [
    "testDict = {}"
   ]
  },
  {
   "cell_type": "markdown",
   "metadata": {},
   "source": [
    "####Test to see if columns have been added since code was initially built or datatype has changed"
   ]
  },
  {
   "cell_type": "code",
   "execution_count": 27,
   "metadata": {
    "collapsed": true
   },
   "outputs": [],
   "source": [
    "#Expected columns as of 2015-10-04\n",
    "expected = [u'member_id', u'loan_amnt', u'funded_amnt', u'term', u'int_rate', u'exp_default_rate', u'service_fee_rate', u'installment', u'grade', u'sub_grade', u'emp_title', u'emp_length', u'home_ownership', u'annual_inc', u'is_inc_v', u'accept_d', u'exp_d', u'list_d', u'credit_pull_d', u'review_status_d', u'review_status', u'url', u'desc', u'purpose', u'title', u'zip_code', u'addr_state', u'msa', u'acc_now_delinq', u'acc_open_past_24mths', u'bc_open_to_buy', u'percent_bc_gt_75', u'bc_util', u'dti', u'delinq_2yrs', u'delinq_amnt', u'earliest_cr_line', u'fico_range_low', u'fico_range_high', u'inq_last_6mths', u'mths_since_last_delinq', u'mths_since_last_record', u'mths_since_recent_inq', u'mths_since_recent_revol_delinq', u'mths_since_recent_bc', u'mort_acc', u'open_acc', u'pub_rec', u'total_bal_ex_mort', u'revol_bal', u'revol_util', u'total_bc_limit', u'total_acc', u'total_il_high_credit_limit', u'num_rev_accts', u'mths_since_recent_bc_dlq', u'initial_list_status', u'ils_exp_d', u'pub_rec_bankruptcies', u'num_accts_ever_120_pd', u'chargeoff_within_12_mths', u'collections_12_mths_ex_med', u'tax_liens', u'mths_since_last_major_derog', u'num_sats', u'num_tl_op_past_12m', u'mo_sin_rcnt_tl', u'tot_hi_cred_lim', u'tot_cur_bal', u'avg_cur_bal', u'num_bc_tl', u'num_actv_bc_tl', u'num_bc_sats', u'pct_tl_nvr_dlq', u'num_tl_90g_dpd_24m', u'num_tl_30dpd', u'num_tl_120dpd_2m', u'num_il_tl', u'mo_sin_old_il_acct', u'num_actv_rev_tl', u'mo_sin_old_rev_tl_op', u'mo_sin_rcnt_rev_tl_op', u'total_rev_hi_lim', u'num_rev_tl_bal_gt_0', u'num_op_rev_tl', u'tot_coll_amt', u'effective_int_rate']\n",
    "\n",
    "current = prospects.columns\n",
    "\n",
    "for i in current:\n",
    "    if i not in expected:\n",
    "        testDict['1) Create DF - Columns'] = 'Fail'\n",
    "else:\n",
    "    testDict['1) Create DF - Columns'] = 'Pass'"
   ]
  },
  {
   "cell_type": "code",
   "execution_count": 28,
   "metadata": {
    "collapsed": true
   },
   "outputs": [],
   "source": [
    "#Expected data types as of 2015-10-04\n",
    "expectedDtype = {'pub_rec_bankruptcies': 'int64', 'inq_last_6mths': 'int64', 'num_sats': 'int64', 'acc_open_past_24mths': 'int64', 'emp_length': 'object', 'emp_title': 'object', 'pub_rec': 'int64', 'title': 'object', 'exp_default_rate': 'float64', 'earliest_cr_line': 'object', 'mths_since_recent_bc': 'int64', 'avg_cur_bal': 'int64', 'review_status_d': 'object', 'total_bal_ex_mort': 'int64', 'term': 'int64', 'mths_since_last_major_derog': 'object', 'desc': 'object', 'num_op_rev_tl': 'int64', 'num_actv_rev_tl': 'int64', 'installment': 'float64', 'mo_sin_old_il_acct': 'object', 'num_rev_accts': 'int64', 'home_ownership': 'object', 'zip_code': 'object', 'mths_since_last_delinq': 'object', 'num_bc_tl': 'int64', 'pct_tl_nvr_dlq': 'int64', 'total_rev_hi_lim': 'int64', 'ils_exp_d': 'float64', 'revol_util': 'float64', 'total_bc_limit': 'int64', 'delinq_2yrs': 'int64', 'num_accts_ever_120_pd': 'int64', 'num_tl_120dpd_2m': 'object', 'accept_d': 'object', 'percent_bc_gt_75': 'float64', 'mo_sin_rcnt_rev_tl_op': 'int64', 'num_tl_90g_dpd_24m': 'int64', 'mths_since_recent_inq': 'object', 'member_id': 'int64', 'tot_hi_cred_lim': 'int64', 'loan_amnt': 'float64', 'delinq_amnt': 'float64', 'collections_12_mths_ex_med': 'int64', 'tax_liens': 'int64', 'grade': 'object', 'review_status': 'object', 'annual_inc': 'float64', 'num_il_tl': 'int64', 'bc_util': 'float64', 'initial_list_status': 'object', 'num_tl_30dpd': 'int64', 'is_inc_v': 'object', 'msa': 'float64', 'num_bc_sats': 'int64', 'tot_coll_amt': 'int64', 'sub_grade': 'object', 'mths_since_last_record': 'object', 'dti': 'float64', 'revol_bal': 'float64', 'mths_since_recent_revol_delinq': 'object', 'total_il_high_credit_limit': 'int64', 'int_rate': 'float64', 'mo_sin_rcnt_tl': 'int64', 'addr_state': 'object', 'credit_pull_d': 'object', 'service_fee_rate': 'float64', 'tot_cur_bal': 'int64', 'num_rev_tl_bal_gt_0': 'int64', 'fico_range_low': 'int64', 'total_acc': 'int64', 'list_d': 'object', 'fico_range_high': 'int64', 'exp_d': 'object', 'mo_sin_old_rev_tl_op': 'int64', 'num_actv_bc_tl': 'int64', 'mort_acc': 'int64', 'open_acc': 'int64', 'mths_since_recent_bc_dlq': 'object', 'bc_open_to_buy': 'int64', 'purpose': 'object', 'acc_now_delinq': 'int64', 'chargeoff_within_12_mths': 'int64', 'url': 'object', 'effective_int_rate': 'float64', 'funded_amnt': 'float64', 'num_tl_op_past_12m': 'int64'}\n",
    "\n",
    "for i in expectedDtype:\n",
    "    if str(prospects[i].dtype) != expectedDtype[i]:\n",
    "        testDict['1) Create DF - dType'] = 'Fail'\n",
    "else:\n",
    "    testDict['1) Create DF - dType'] = 'Pass'   "
   ]
  },
  {
   "cell_type": "markdown",
   "metadata": {},
   "source": [
    "###2) Clean data in same way as build when possible"
   ]
  },
  {
   "cell_type": "code",
   "execution_count": 29,
   "metadata": {
    "collapsed": true
   },
   "outputs": [],
   "source": [
    "# Info on to_datetimes http://pandas.pydata.org/pandas-docs/stable/generated/pandas.to_datetime.html\n",
    "# Converting to a Date in Words - Year in Numbers format (Jan-2015)\n",
    "def timeBetweenDatesM(timeZero, timeCompare):\n",
    "    timeZeroF = pd.to_datetime(timeZero,format=\"%b-%Y\")\n",
    "    timeCompareF = pd.to_datetime(timeCompare,format=\"%b-%Y\")\n",
    "    return (timeCompareF - timeZeroF).astype('timedelta64[M]')\n",
    "\n",
    "# Add column for today: https://docs.python.org/2/library/datetime.html#strftime-strptime-behavior\n",
    "prospects['today'] = datetime.date.today().strftime(\"%b-%Y\")\n",
    "\n",
    "#Fix earliest_cr_line varialbe\n",
    "prospects['earliest_cr_line'] = pd.to_datetime(prospects['earliest_cr_line'])\n",
    "prospects['earliest_cr_line'] = prospects['earliest_cr_line'].apply(lambda x: x.strftime(\"%b-%Y\"))\n",
    "\n",
    "# Apply definition\n",
    "prospects['earliest_cr_line_R'] = timeBetweenDatesM(prospects['today'], prospects['earliest_cr_line'])\n",
    "\n",
    "#Add a 0 loan_age field\n",
    "prospects['loan_age'] = 0"
   ]
  },
  {
   "cell_type": "code",
   "execution_count": 30,
   "metadata": {
    "collapsed": true
   },
   "outputs": [],
   "source": [
    "#Clean revol_util and int_rate as we had in build\n",
    "prospects['revol_util'] = prospects.revol_util.astype('float')/100\n",
    "prospects['int_rate'] = prospects.int_rate.astype('float')/100"
   ]
  },
  {
   "cell_type": "code",
   "execution_count": 31,
   "metadata": {
    "collapsed": true
   },
   "outputs": [],
   "source": [
    "#Drop columns either irrelevant to scoring or not available when model was built\n",
    "dropVariables = [\n",
    "'service_fee_rate',\n",
    "'exp_default_rate',\n",
    "'emp_title',\n",
    "'accept_d',\n",
    "'exp_d',\n",
    "'list_d',\n",
    "'credit_pull_d',\n",
    "'review_status_d',\n",
    "'review_status',\n",
    "'url',\n",
    "'desc',\n",
    "'title',\n",
    "'msa',\n",
    "'acc_now_delinq',\n",
    "'acc_open_past_24mths',\n",
    "'bc_open_to_buy',\n",
    "'percent_bc_gt_75',\n",
    "'bc_util',\n",
    "'delinq_amnt',\n",
    "'earliest_cr_line',\n",
    "'mths_since_recent_inq',\n",
    "'mths_since_recent_revol_delinq',\n",
    "'mths_since_recent_bc',\n",
    "'mort_acc',\n",
    "'total_bal_ex_mort',\n",
    "'total_bc_limit',\n",
    "'total_il_high_credit_limit',\n",
    "'num_rev_accts',\n",
    "'mths_since_recent_bc_dlq',\n",
    "'ils_exp_d',\n",
    "'num_accts_ever_120_pd',\n",
    "'chargeoff_within_12_mths',\n",
    "'pub_rec_bankruptcies',\n",
    "'mo_sin_rcnt_tl',\n",
    "'tot_hi_cred_lim',\n",
    "'tot_cur_bal',\n",
    "'avg_cur_bal',\n",
    "'num_bc_tl',\n",
    "'num_actv_bc_tl',\n",
    "'num_bc_sats',\n",
    "'pct_tl_nvr_dlq',\n",
    "'num_tl_90g_dpd_24m',\n",
    "'num_tl_30dpd',\n",
    "'num_tl_120dpd_2m',\n",
    "'num_il_tl',\n",
    "'mo_sin_old_il_acct',\n",
    "'num_actv_rev_tl',\n",
    "'mo_sin_old_rev_tl_op',\n",
    "'mo_sin_rcnt_rev_tl_op',\n",
    "'total_rev_hi_lim',\n",
    "'num_rev_tl_bal_gt_0',\n",
    "'num_op_rev_tl',\n",
    "'tot_coll_amt',\n",
    "'effective_int_rate',\n",
    "'today',\n",
    "'num_tl_op_past_12m',\n",
    "'num_sats'\n",
    "]\n",
    "\n",
    "#Dataframe with only the relevant variables\n",
    "prospects = prospects.select(lambda f: f not in dropVariables,axis=1)"
   ]
  },
  {
   "cell_type": "code",
   "execution_count": 34,
   "metadata": {
    "collapsed": false
   },
   "outputs": [
    {
     "name": "stdout",
     "output_type": "stream",
     "text": [
      "count     741\n",
      "unique     80\n",
      "top          \n",
      "freq      378\n",
      "Name: mths_since_last_delinq, dtype: object\n",
      "\n",
      "count     741\n",
      "unique     75\n",
      "top          \n",
      "freq      574\n",
      "Name: mths_since_last_record, dtype: object\n",
      "\n",
      "count      741\n",
      "unique      88\n",
      "top       null\n",
      "freq       528\n",
      "Name: mths_since_last_major_derog, dtype: object\n",
      "\n",
      "count    363.000000\n",
      "mean      34.250689\n",
      "std       22.281734\n",
      "min        1.000000\n",
      "25%       16.000000\n",
      "50%       30.000000\n",
      "75%       52.000000\n",
      "max       83.000000\n",
      "Name: mths_since_last_delinq, dtype: float64\n",
      "\n",
      "count    167.000000\n",
      "mean      65.011976\n",
      "std       21.735538\n",
      "min        4.000000\n",
      "25%       54.000000\n",
      "50%       65.000000\n",
      "75%       79.500000\n",
      "max      112.000000\n",
      "Name: mths_since_last_record, dtype: float64\n",
      "\n",
      "count    213.000000\n",
      "mean      48.910798\n",
      "std       26.567936\n",
      "min        1.000000\n",
      "25%       30.000000\n",
      "50%       51.000000\n",
      "75%       66.000000\n",
      "max      146.000000\n",
      "Name: mths_since_last_major_derog, dtype: float64\n"
     ]
    }
   ],
   "source": [
    "# Fix object variables that shouls be numeric\n",
    "print prospects['mths_since_last_delinq'].describe(include = 'all')\n",
    "print \n",
    "print prospects['mths_since_last_record'].describe(include = 'all')\n",
    "print \n",
    "print prospects['mths_since_last_major_derog'].describe(include = 'all')\n",
    "\n",
    "prospects['mths_since_last_delinq'] = prospects['mths_since_last_delinq'].apply(lambda x: None if x == ' ' else x)\n",
    "prospects['mths_since_last_delinq'] = prospects.mths_since_last_delinq.astype('float')\n",
    "\n",
    "prospects['mths_since_last_record'] = prospects['mths_since_last_record'].apply(lambda x: None if x == ' ' else x)\n",
    "prospects['mths_since_last_record'] = prospects.mths_since_last_record.astype('float')\n",
    "\n",
    "prospects['mths_since_last_major_derog'] = prospects['mths_since_last_major_derog'].apply(lambda x: None if x == 'null' else x)\n",
    "prospects['mths_since_last_major_derog'] = prospects.mths_since_last_major_derog.astype('float')\n",
    "\n",
    "print\n",
    "print prospects['mths_since_last_delinq'].describe(include = 'all')\n",
    "print \n",
    "print prospects['mths_since_last_record'].describe(include = 'all')\n",
    "print \n",
    "print prospects['mths_since_last_major_derog'].describe(include = 'all')"
   ]
  },
  {
   "cell_type": "code",
   "execution_count": 37,
   "metadata": {
    "collapsed": false
   },
   "outputs": [
    {
     "name": "stdout",
     "output_type": "stream",
     "text": [
      "36    483\n",
      "60    258\n",
      "dtype: int64\n",
      "\n",
      "36 months    483\n",
      "60 months    258\n",
      "dtype: int64\n"
     ]
    }
   ],
   "source": [
    "#Convert term to a string\n",
    "print prospects['term'].value_counts()\n",
    "\n",
    "def termClean(term):\n",
    "    if term == 36:\n",
    "        return '36 months'\n",
    "    elif term == 60:\n",
    "        return '60 months'\n",
    "\n",
    "prospects['term'] = prospects.apply(lambda row: termClean(row['term']), axis=1)\n",
    "\n",
    "print\n",
    "print prospects['term'].value_counts()"
   ]
  },
  {
   "cell_type": "code",
   "execution_count": 39,
   "metadata": {
    "collapsed": false
   },
   "outputs": [
    {
     "name": "stdout",
     "output_type": "stream",
     "text": [
      "Not Verified       579\n",
      "Source Verified    141\n",
      "Verified            21\n",
      "dtype: int64\n",
      "\n",
      "not verified                579\n",
      "VERIFIED - income source    141\n",
      "VERIFIED - income            21\n",
      "dtype: int64\n"
     ]
    }
   ],
   "source": [
    "#Fix Income Verification\n",
    "print prospects['is_inc_v'].value_counts()\n",
    "\n",
    "def verificationStatusClean(is_inc_v):\n",
    "    if is_inc_v == 'Not Verified':\n",
    "        return 'not verified'\n",
    "    elif is_inc_v == 'Source Verified':\n",
    "        return 'VERIFIED - income source'\n",
    "    elif is_inc_v == 'Verified':\n",
    "        return 'VERIFIED - income'\n",
    "\n",
    "prospects['verification_status'] = prospects.apply(lambda row: verificationStatusClean(row['is_inc_v']), axis=1)\n",
    "\n",
    "print\n",
    "print prospects['verification_status'].value_counts()"
   ]
  },
  {
   "cell_type": "code",
   "execution_count": 41,
   "metadata": {
    "collapsed": false
   },
   "outputs": [
    {
     "name": "stdout",
     "output_type": "stream",
     "text": [
      "Debt consolidation         395\n",
      "Credit card refinancing    255\n",
      "Home improvement            50\n",
      "Other                       19\n",
      "Major purchase              12\n",
      "Car financing                4\n",
      "Business                     2\n",
      "Medical expenses             2\n",
      "Green loan                   1\n",
      "Vacation                     1\n",
      "dtype: int64\n",
      "\n",
      "debt_consolidation    395\n",
      "credit_card           255\n",
      "home_improvement       50\n",
      "other                  19\n",
      "major_purchase         12\n",
      "car                     4\n",
      "small_business          2\n",
      "medical                 2\n",
      "vacation                1\n",
      "dtype: int64\n"
     ]
    }
   ],
   "source": [
    "#Fix purpose variable\n",
    "print prospects['purpose'].value_counts()\n",
    "\n",
    "def purposeClean(purpose):\n",
    "    if purpose == 'Debt consolidation':\n",
    "        return 'debt_consolidation'\n",
    "    elif purpose == 'Credit card refinancing':\n",
    "        return 'credit_card'\n",
    "    elif purpose == 'Home improvement':\n",
    "        return 'home_improvement'\n",
    "    elif purpose == 'Other':\n",
    "        return 'other'\n",
    "    elif purpose == 'Major purchase':\n",
    "        return 'major_purchase'\n",
    "    elif purpose == 'Business':\n",
    "        return 'small_business' \n",
    "    elif purpose == 'Medical expenses':\n",
    "        return 'medical'\n",
    "    elif purpose == 'Vacation':\n",
    "        return 'vacation'\n",
    "    elif purpose == 'Car financing':\n",
    "        return 'car'\n",
    "    elif purpose == 'Moving and relocation':\n",
    "        return 'moving'    \n",
    "\n",
    "prospects['purpose'] = prospects.apply(lambda row: purposeClean(row['purpose']), axis=1)\n",
    "\n",
    "print\n",
    "print prospects['purpose'].value_counts()"
   ]
  },
  {
   "cell_type": "code",
   "execution_count": null,
   "metadata": {
    "collapsed": true
   },
   "outputs": [],
   "source": []
  },
  {
   "cell_type": "code",
   "execution_count": null,
   "metadata": {
    "collapsed": true
   },
   "outputs": [],
   "source": []
  },
  {
   "cell_type": "code",
   "execution_count": null,
   "metadata": {
    "collapsed": true
   },
   "outputs": [],
   "source": []
  },
  {
   "cell_type": "code",
   "execution_count": null,
   "metadata": {
    "collapsed": true
   },
   "outputs": [],
   "source": []
  },
  {
   "cell_type": "code",
   "execution_count": null,
   "metadata": {
    "collapsed": true
   },
   "outputs": [],
   "source": []
  },
  {
   "cell_type": "code",
   "execution_count": 40,
   "metadata": {
    "collapsed": false
   },
   "outputs": [
    {
     "name": "stdout",
     "output_type": "stream",
     "text": [
      "Debt consolidation         395\n",
      "Credit card refinancing    255\n",
      "Home improvement            50\n",
      "Other                       19\n",
      "Major purchase              12\n",
      "Car financing                4\n",
      "Business                     2\n",
      "Medical expenses             2\n",
      "Green loan                   1\n",
      "Vacation                     1\n",
      "dtype: int64\n"
     ]
    }
   ],
   "source": [
    "print prospects['purpose'].value_counts()"
   ]
  },
  {
   "cell_type": "code",
   "execution_count": null,
   "metadata": {
    "collapsed": true
   },
   "outputs": [],
   "source": [
    "print prospects['term'].value_counts()\n",
    "\n",
    "def termClean(term):\n",
    "    if term == 36:\n",
    "        return '36 months'\n",
    "    elif term == 60:\n",
    "        return '60 months'\n",
    "\n",
    "prospects['term'] = prospects.apply(lambda row: termClean(row['term']), axis=1)\n",
    "\n",
    "print\n",
    "print prospects['term'].value_counts()"
   ]
  },
  {
   "cell_type": "code",
   "execution_count": 32,
   "metadata": {
    "collapsed": false
   },
   "outputs": [
    {
     "data": {
      "text/plain": [
       "Index([u'member_id', u'loan_amnt', u'funded_amnt', u'term', u'int_rate', u'installment', u'grade', u'sub_grade', u'emp_length', u'home_ownership', u'annual_inc', u'is_inc_v', u'purpose', u'zip_code', u'addr_state', u'dti', u'delinq_2yrs', u'fico_range_low', u'fico_range_high', u'inq_last_6mths', u'mths_since_last_delinq', u'mths_since_last_record', u'open_acc', u'pub_rec', u'revol_bal', u'revol_util', u'total_acc', u'initial_list_status', u'collections_12_mths_ex_med', u'tax_liens', u'mths_since_last_major_derog', u'earliest_cr_line_R', u'loan_age'], dtype='object')"
      ]
     },
     "execution_count": 32,
     "metadata": {},
     "output_type": "execute_result"
    }
   ],
   "source": [
    "prospects.columns"
   ]
  },
  {
   "cell_type": "code",
   "execution_count": null,
   "metadata": {
    "collapsed": true
   },
   "outputs": [],
   "source": [
    "#Check Expected columns\n",
    "expectedFields = ['member_id', 'loan_amnt', 'funded_amnt' 'term', 'int_rate', \n",
    "                  'installment', 'grade', 'sub_grade', 'emp_length', 'home_ownership', 'annual_inc', \n",
    "                  'verification_status','purpose', 'zip_code', 'addr_state', 'dti', 'delinq_2yrs', \n",
    "                  'fico_range_low', 'fico_range_high', 'inq_last_6mths', 'mths_since_last_delinq', \n",
    "                  'mths_since_last_record', 'open_acc', 'pub_rec', 'revol_bal', 'revol_util', 'total_acc', \n",
    "                  'initial_list_status', 'collections_12_mths_ex_med', 'mths_since_last_major_derog', \n",
    "                  'earliest_cr_line_R', 'loan_age']\n",
    "\n"
   ]
  },
  {
   "cell_type": "markdown",
   "metadata": {},
   "source": [
    "####Test variable range for fixed int_rate and revol_util"
   ]
  },
  {
   "cell_type": "code",
   "execution_count": 18,
   "metadata": {
    "collapsed": false
   },
   "outputs": [],
   "source": [
    "def varRangeCheck(series, acceptable_range, expected_mean, expected_25_quantile, expected_75_quantile):\n",
    "    if series.mean() > (expected_mean*(1+acceptable_range)) or series.mean() < (expected_mean*(1-acceptable_range)) or series.quantile(0.25) > (expected_25_quantile*(1+acceptable_range)) or series.quantile(0.25) < (expected_25_quantile*(1-acceptable_range)) or series.quantile(0.75) > (expected_75_quantile*(1+acceptable_range)) or series.quantile(0.75) < (expected_75_quantile*(1-acceptable_range)):\n",
    "        return 'Fail'\n",
    "    else:\n",
    "        return 'Pass'\n",
    "\n",
    "#Set acceptable variable variance\n",
    "acceptable_range = 0.05    \n",
    "\n",
    "#Expected metrics as of 2015-09-03 from build\n",
    "expected_mean_int_rate = 0.138\n",
    "expected_25_int_rate = 0.1099\n",
    "expected_75_int_rate = 0.1649\n",
    "\n",
    "testDict['2) Data Fix - int_rate Range'] = varRangeCheck(prospects['int_rate'], acceptable_range, expected_mean_int_rate, expected_25_int_rate, expected_75_int_rate)\n",
    "\n",
    "#Expected metrics as of 2015-09-03 from build\n",
    "expected_mean_revol_util = 0.561\n",
    "expected_25_revol_util = 0.393\n",
    "expected_75_revol_util = 0.747\n",
    "\n",
    "testDict['2) Data Fix - revol_util Range'] = varRangeCheck(prospects['revol_util'], acceptable_range, expected_mean_revol_util, expected_25_revol_util, expected_75_revol_util)"
   ]
  },
  {
   "cell_type": "code",
   "execution_count": 22,
   "metadata": {
    "collapsed": false
   },
   "outputs": [
    {
     "name": "stdout",
     "output_type": "stream",
     "text": [
      "0.0968862348178\n",
      "0.0789\n",
      "0.1099\n"
     ]
    }
   ],
   "source": [
    "print prospects['int_rate'].mean()\n",
    "print prospects['int_rate'].quantile(0.25)\n",
    "print prospects['int_rate'].quantile(0.75)\n",
    "\n",
    "print prospects['int_rate'].mean()\n",
    "print prospects['int_rate'].quantile(0.25)\n",
    "print prospects['int_rate'].quantile(0.75)"
   ]
  },
  {
   "cell_type": "code",
   "execution_count": 19,
   "metadata": {
    "collapsed": false
   },
   "outputs": [
    {
     "name": "stdout",
     "output_type": "stream",
     "text": [
      "{'1) Create DF - dType': 'Pass', '2) Data Fix - revol_util Range': 'Fail', '2) Data Fix - int_rate Range': 'Fail', '1) Create DF - Columns': 'Pass'}\n"
     ]
    }
   ],
   "source": [
    "print testDict"
   ]
  },
  {
   "cell_type": "code",
   "execution_count": null,
   "metadata": {
    "collapsed": true
   },
   "outputs": [],
   "source": []
  }
 ],
 "metadata": {
  "kernelspec": {
   "display_name": "Python 2",
   "language": "python",
   "name": "python2"
  },
  "language_info": {
   "codemirror_mode": {
    "name": "ipython",
    "version": 2
   },
   "file_extension": ".py",
   "mimetype": "text/x-python",
   "name": "python",
   "nbconvert_exporter": "python",
   "pygments_lexer": "ipython2",
   "version": "2.7.9"
  }
 },
 "nbformat": 4,
 "nbformat_minor": 0
}
